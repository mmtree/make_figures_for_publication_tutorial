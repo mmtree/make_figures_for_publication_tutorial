{
 "cells": [
  {
   "cell_type": "code",
   "execution_count": null,
   "metadata": {},
   "outputs": [],
   "source": [
    "###############################################################################################\n",
    "### Generate two subfigures with standardized sizes, fonts, font sizes, set colors, etc.  #####\n",
    "###############################################################################################"
   ]
  },
  {
   "cell_type": "code",
   "execution_count": 1,
   "metadata": {},
   "outputs": [],
   "source": [
    "##########################################\n",
    "###### Imports ###########################\n",
    "##########################################\n",
    "\n",
    "import numpy as np\n",
    "from numpy import random\n",
    "import seaborn as sns\n",
    "import matplotlib.pyplot as plt\n",
    "import matplotlib as mpl"
   ]
  },
  {
   "cell_type": "code",
   "execution_count": 2,
   "metadata": {},
   "outputs": [],
   "source": [
    "############################################################\n",
    "###### Standardize all figure text, font, size #############\n",
    "############################################################\n",
    "sns.set_style({'font.family':'serif', 'font.serif':'Times New Roman'})\n",
    "mpl.rc('xtick', labelsize=9) # standardize font size\n",
    "mpl.rc('ytick', labelsize=9) # standarize font size\n",
    "\n",
    "clr = sns.color_palette(reversed(sns.color_palette(\"YlGnBu\",10)),10) #get a color palette\n",
    "\n"
   ]
  },
  {
   "cell_type": "code",
   "execution_count": 3,
   "metadata": {},
   "outputs": [
    {
     "data": {
      "text/html": [
       "<svg  width=\"550\" height=\"55\"><rect x=\"0\" y=\"0\" width=\"55\" height=\"55\" style=\"fill:#1d2e83;stroke-width:2;stroke:rgb(255,255,255)\"/><rect x=\"55\" y=\"0\" width=\"55\" height=\"55\" style=\"fill:#24479d;stroke-width:2;stroke:rgb(255,255,255)\"/><rect x=\"110\" y=\"0\" width=\"55\" height=\"55\" style=\"fill:#2166ac;stroke-width:2;stroke:rgb(255,255,255)\"/><rect x=\"165\" y=\"0\" width=\"55\" height=\"55\" style=\"fill:#1d8dbe;stroke-width:2;stroke:rgb(255,255,255)\"/><rect x=\"220\" y=\"0\" width=\"55\" height=\"55\" style=\"fill:#34a9c3;stroke-width:2;stroke:rgb(255,255,255)\"/><rect x=\"275\" y=\"0\" width=\"55\" height=\"55\" style=\"fill:#57bec1;stroke-width:2;stroke:rgb(255,255,255)\"/><rect x=\"330\" y=\"0\" width=\"55\" height=\"55\" style=\"fill:#85cfba;stroke-width:2;stroke:rgb(255,255,255)\"/><rect x=\"385\" y=\"0\" width=\"55\" height=\"55\" style=\"fill:#bbe4b5;stroke-width:2;stroke:rgb(255,255,255)\"/><rect x=\"440\" y=\"0\" width=\"55\" height=\"55\" style=\"fill:#dcf1b2;stroke-width:2;stroke:rgb(255,255,255)\"/><rect x=\"495\" y=\"0\" width=\"55\" height=\"55\" style=\"fill:#f2fabc;stroke-width:2;stroke:rgb(255,255,255)\"/></svg>"
      ],
      "text/plain": [
       "[(0.11343329488658209, 0.17880815071126488, 0.514878892733564),\n",
       " (0.13988465974625144, 0.27690888119953866, 0.6151480199923107),\n",
       " (0.1301038062283737, 0.40156862745098043, 0.6743252595155709),\n",
       " (0.11534025374855825, 0.552156862745098, 0.7451903114186851),\n",
       " (0.20396770472895037, 0.6613763936947328, 0.762968089196463),\n",
       " (0.34262206843521725, 0.7462668204536717, 0.7558938869665514),\n",
       " (0.521291810841984, 0.812964244521338, 0.7310726643598615),\n",
       " (0.7338869665513265, 0.8956401384083045, 0.7104036908881199),\n",
       " (0.8633756247597079, 0.946482122260669, 0.6993310265282584),\n",
       " (0.9490657439446367, 0.9801922337562476, 0.7377931564782776)]"
      ]
     },
     "execution_count": 3,
     "metadata": {},
     "output_type": "execute_result"
    }
   ],
   "source": [
    "## show colormap\n",
    "clr"
   ]
  },
  {
   "cell_type": "code",
   "execution_count": 4,
   "metadata": {},
   "outputs": [],
   "source": [
    "#######################################\n",
    "###### generate some data #############\n",
    "#######################################\n",
    "\n",
    "# subfigure 1 data\n",
    "x = np.linspace(-2,10,100)\n",
    "y1 = x**2-x;\n",
    "y2 = 2*x**2.*np.sin(x);\n",
    "\n",
    "# subfigure 2 data\n",
    "sz = 5\n",
    "mat = np.random.randn(sz,sz)\n"
   ]
  },
  {
   "cell_type": "code",
   "execution_count": 5,
   "metadata": {},
   "outputs": [
    {
     "data": {
      "image/png": "[encoded data removed]",
      "text/plain": [
       "<Figure size 446.4x79.2 with 1 Axes>"
      ]
     },
     "metadata": {
      "needs_background": "light"
     },
     "output_type": "display_data"
    }
   ],
   "source": [
    "######################################\n",
    "######  Figure 1: demo_fig1  #########\n",
    "######################################\n",
    "\n",
    "fig = plt.figure(figsize=(6.2, 1.1))\n",
    "ax = fig.gca()\n",
    "\n",
    "ax.plot(x,y1,color=clr[1],linewidth=1);\n",
    "ax.plot(x,y2,color=clr[6],linewidth=1);\n",
    "plt.xlim((2, 10));\n",
    "plt.ylim((-110, 140));\n",
    "\n",
    "\n",
    "ax.spines[\"top\"].set_visible(False)\n",
    "ax.spines[\"right\"].set_visible(False)\n",
    "\n",
    "fig.savefig('figures/demo_fig1.pdf', format='pdf', dpi=400,bbox_inches='tight',transparent=True)"
   ]
  },
  {
   "cell_type": "code",
   "execution_count": 6,
   "metadata": {},
   "outputs": [
    {
     "data": {
      "image/png": "[encoded data removed]",
      "text/plain": [
       "<Figure size 165.6x165.6 with 1 Axes>"
      ]
     },
     "metadata": {
      "needs_background": "light"
     },
     "output_type": "display_data"
    }
   ],
   "source": [
    "######################################\n",
    "######  Figure 2: demo_fig2  #########\n",
    "######################################\n",
    "\n",
    "fig = plt.figure(figsize=(2.3, 2.3))\n",
    "ax = fig.gca()\n",
    "\n",
    "ax.imshow(mat)\n",
    "\n",
    "xtick_labels = [\"label 1\", \"label 2\",\"label 3\",\"label 4\",\"label 5\"]\n",
    "\n",
    "ax.set_xticks(np.arange(len(xtick_labels)))\n",
    "# ... and label them with the respective list entries\n",
    "ax.set_xticklabels(xtick_labels)\n",
    "ax.set_yticklabels(list(range(0,6)))\n",
    "\n",
    "# Rotate the tick labels and set their alignment.\n",
    "plt.setp(ax.get_xticklabels(), rotation=45, ha=\"right\",\n",
    "         rotation_mode=\"anchor\")\n",
    "\n",
    "fig.tight_layout()\n",
    "fig.savefig('figures/demo_fig2.pdf', format='pdf', dpi=400,bbox_inches='tight',transparent=True)"
   ]
  },
  {
   "cell_type": "code",
   "execution_count": null,
   "metadata": {},
   "outputs": [],
   "source": []
  },
  {
   "cell_type": "code",
   "execution_count": null,
   "metadata": {},
   "outputs": [],
   "source": []
  }
 ],
 "metadata": {
  "kernelspec": {
   "display_name": "env_megan",
   "language": "python",
   "name": "env_megan"
  },
  "language_info": {
   "codemirror_mode": {
    "name": "ipython",
    "version": 3
   },
   "file_extension": ".py",
   "mimetype": "text/x-python",
   "name": "python",
   "nbconvert_exporter": "python",
   "pygments_lexer": "ipython3",
   "version": "3.8.2"
  }
 },
 "nbformat": 4,
 "nbformat_minor": 4
}
